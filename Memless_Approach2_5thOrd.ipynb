{
 "cells": [
  {
   "cell_type": "code",
   "execution_count": 2,
   "metadata": {},
   "outputs": [
    {
     "name": "stderr",
     "output_type": "stream",
     "text": [
      "Using TensorFlow backend.\n"
     ]
    }
   ],
   "source": [
    "import pandas\n",
    "from keras.models import Sequential,Model\n",
    "from keras import losses\n",
    "from keras.layers import Dense,Activation,LSTM,Lambda\n",
    "from keras.wrappers.scikit_learn import KerasRegressor\n",
    "from sklearn.model_selection import cross_val_score\n",
    "from sklearn.model_selection import KFold\n",
    "from sklearn.preprocessing import StandardScaler\n",
    "from sklearn.pipeline import Pipeline\n",
    "from keras.utils.conv_utils import convert_kernel\n",
    "\n",
    "from random import seed\n",
    "from random import choice\n",
    "\n",
    "%matplotlib inline \n",
    "#to plot inline in jupyter notebook  \n",
    "import numpy as np #for array related \n",
    "import scipy.io as spio #to load data \n",
    "import cmath #for complex operations\n",
    "import matplotlib.pyplot as plt #for plotting graphs\n",
    "import math # for log \n",
    "from scipy.signal import hann, welch #for spectral analysis\n",
    "import keras.backend as K\n",
    "import tensorflow as tf\n",
    "import tensorflow.contrib.eager as tfe\n",
    "from tensorflow.python.eager.context import context, EAGER_MODE, GRAPH_MODE\n"
   ]
  },
  {
   "cell_type": "code",
   "execution_count": 3,
   "metadata": {},
   "outputs": [],
   "source": [
    "def plot_spec(spec_input,am_am = False,plot_label = None):\n",
    "    \n",
    "    # Spectral analyses of PA input and PA output\n",
    "    Fs = 7.86e6\n",
    "    N = np.min(np.array([1024,len(spec_input)]));\n",
    "    pwin = hann(N);\n",
    "    f_axis,spec_input_ps = welch(spec_input, Fs, window=pwin, nfft=N, return_onesided=False,scaling = 'spectrum',detrend=False)\n",
    "    \n",
    "    spec_input_ps_dB = [ 10*math.log10(abs(spec_input_ps[i])) for i in range(len(spec_input_ps)) ];\n",
    "\n",
    "    # Plots\n",
    "    f_axis = [f_axis[i]/1000000 for i in range(len(f_axis))]\n",
    "    #plt.figure()\n",
    "    plt.plot(f_axis,spec_input_ps_dB,label = plot_label)\n",
    "    \n"
   ]
  },
  {
   "cell_type": "code",
   "execution_count": 4,
   "metadata": {},
   "outputs": [
    {
     "name": "stdout",
     "output_type": "stream",
     "text": [
      "Loaded data\n",
      "Input scaling done\n"
     ]
    }
   ],
   "source": [
    "#loading data from the file\n",
    "mat_I = spio.loadmat('qpsk_I_seqLen65472.mat', squeeze_me=True)\n",
    "mat_Q = spio.loadmat('qpsk_Q_seqLen65472.mat', squeeze_me=True)\n",
    "data_total_I = mat_I['waveform_I']\n",
    "data_total_Q = mat_Q['waveform_Q']\n",
    "data_total = [complex(data_total_I[i],data_total_Q[i]) for i in range(len(data_total_I))]\n",
    "\n",
    "print('Loaded data')\n",
    "#input scaling in dB\n",
    "scale_val = np.max(np.abs(data_total))\n",
    "data_total = data_total/scale_val\n",
    "print('Input scaling done')\n"
   ]
  },
  {
   "cell_type": "code",
   "execution_count": 5,
   "metadata": {},
   "outputs": [
    {
     "name": "stdout",
     "output_type": "stream",
     "text": [
      "1.0\n"
     ]
    }
   ],
   "source": [
    "print(np.max(np.abs(data_total)))\n"
   ]
  },
  {
   "cell_type": "code",
   "execution_count": 6,
   "metadata": {},
   "outputs": [],
   "source": [
    "def Convert2Feature(input):\n",
    "\toutput = [(np.real(i),np.imag(i)) for i in input]\n",
    "\treturn np.array(output).reshape(-1,2)\n",
    "\n",
    "def Convert2Complex(input):\n",
    "\treturn np.array([t[0]+1j*t[1] for t in np.array(input)])\n",
    "\n",
    "def Non_Linearity(input):\n",
    "\tinput = np.array([t[0]+1j*t[1] for t in input])\n",
    "\treturn Convert2Feature(pa(input))\n",
    "\n",
    "def pa(input):\n",
    "    return (input-0.1*input*(np.abs(input)**2)+0.005*input*(np.abs(input)**4))\n",
    "\n",
    "def Generate_Data():\n",
    "\tx_train=np.random.rand(40000)*2.1-1.05\n",
    "\tx_train=x_train.reshape(-1,2)\n",
    "\ty_train=Non_Linearity(x_train)\n",
    "\t\n",
    "\tx_test=np.linspace(-0.5,0.5,200)\n",
    "\tx_test=x_test.reshape(-1,2)\n",
    "\ty_test=Non_Linearity(x_test)\n",
    "\n",
    "\treturn (x_train,y_train,x_test,y_test)\n",
    "\n",
    "def load_data(x):\n",
    "    train_len = 8000\n",
    "    \n",
    "    y_train = Convert2Feature(pa(x[0:train_len]))\n",
    "    x_train = Convert2Feature(x[0:train_len])\n",
    "    \n",
    "    y_test = Convert2Feature(pa(x[len(x)-5000:]))\n",
    "    x_test = Convert2Feature(x[len(x)-5000:])\n",
    "    \n",
    "    return (x_train,y_train,x_test,y_test)"
   ]
  },
  {
   "cell_type": "code",
   "execution_count": 7,
   "metadata": {},
   "outputs": [
    {
     "data": {
      "text/plain": [
       "1.473414099885459"
      ]
     },
     "execution_count": 7,
     "metadata": {},
     "output_type": "execute_result"
    }
   ],
   "source": [
    "x_train,y_train,x_test,y_test =  Generate_Data()\n",
    "np.max(np.abs(Convert2Complex(x_train)))"
   ]
  },
  {
   "cell_type": "code",
   "execution_count": 8,
   "metadata": {},
   "outputs": [
    {
     "name": "stdout",
     "output_type": "stream",
     "text": [
      "Epoch 1/75\n",
      "20000/20000 [==============================] - 2s 118us/step - loss: 0.0058\n",
      "Epoch 2/75\n",
      "20000/20000 [==============================] - 2s 99us/step - loss: 2.2323e-04\n",
      "Epoch 3/75\n",
      "20000/20000 [==============================] - 2s 100us/step - loss: 1.2817e-04\n",
      "Epoch 4/75\n",
      "20000/20000 [==============================] - 2s 100us/step - loss: 8.1993e-05\n",
      "Epoch 5/75\n",
      "20000/20000 [==============================] - 2s 109us/step - loss: 6.0031e-05\n",
      "Epoch 6/75\n",
      "20000/20000 [==============================] - 2s 98us/step - loss: 4.5703e-05\n",
      "Epoch 7/75\n",
      "20000/20000 [==============================] - 2s 106us/step - loss: 3.7169e-05\n",
      "Epoch 8/75\n",
      "20000/20000 [==============================] - 2s 90us/step - loss: 3.0689e-05\n",
      "Epoch 9/75\n",
      "20000/20000 [==============================] - 2s 95us/step - loss: 2.6356e-05\n",
      "Epoch 10/75\n",
      "20000/20000 [==============================] - 2s 92us/step - loss: 2.3275e-05\n",
      "Epoch 11/75\n",
      "20000/20000 [==============================] - 2s 92us/step - loss: 2.8992e-05\n",
      "Epoch 12/75\n",
      "20000/20000 [==============================] - 2s 93us/step - loss: 2.3885e-05\n",
      "Epoch 13/75\n",
      "20000/20000 [==============================] - 2s 105us/step - loss: 2.1685e-05\n",
      "Epoch 14/75\n",
      "20000/20000 [==============================] - 2s 115us/step - loss: 4.3709e-05\n",
      "Epoch 15/75\n",
      "20000/20000 [==============================] - 2s 91us/step - loss: 2.6616e-05\n",
      "Epoch 16/75\n",
      "20000/20000 [==============================] - 2s 110us/step - loss: 1.3020e-05\n",
      "Epoch 17/75\n",
      "20000/20000 [==============================] - 2s 93us/step - loss: 1.6321e-05\n",
      "Epoch 18/75\n",
      "20000/20000 [==============================] - 2s 107us/step - loss: 6.0661e-05\n",
      "Epoch 19/75\n",
      "20000/20000 [==============================] - 2s 95us/step - loss: 1.8361e-05\n",
      "Epoch 20/75\n",
      "20000/20000 [==============================] - 2s 91us/step - loss: 2.0229e-05\n",
      "Epoch 21/75\n",
      "20000/20000 [==============================] - 2s 99us/step - loss: 1.4364e-05\n",
      "Epoch 22/75\n",
      "20000/20000 [==============================] - 2s 121us/step - loss: 3.6361e-05 1s - loss: 1.1549e-\n",
      "Epoch 23/75\n",
      "20000/20000 [==============================] - 2s 97us/step - loss: 1.9938e-05\n",
      "Epoch 24/75\n",
      "20000/20000 [==============================] - 2s 114us/step - loss: 1.3264e-05\n",
      "Epoch 25/75\n",
      "20000/20000 [==============================] - 2s 103us/step - loss: 1.9134e-05\n",
      "Epoch 26/75\n",
      "20000/20000 [==============================] - 2s 113us/step - loss: 1.5139e-05\n",
      "Epoch 27/75\n",
      "20000/20000 [==============================] - 2s 99us/step - loss: 2.7680e-05\n",
      "Epoch 28/75\n",
      "20000/20000 [==============================] - 2s 93us/step - loss: 2.4860e-05\n",
      "Epoch 29/75\n",
      "20000/20000 [==============================] - 2s 92us/step - loss: 1.1569e-05\n",
      "Epoch 30/75\n",
      "20000/20000 [==============================] - 2s 92us/step - loss: 1.9758e-05\n",
      "Epoch 31/75\n",
      "20000/20000 [==============================] - 2s 121us/step - loss: 2.1130e-05\n",
      "Epoch 32/75\n",
      "20000/20000 [==============================] - 2s 105us/step - loss: 3.9147e-05\n",
      "Epoch 33/75\n",
      "20000/20000 [==============================] - 2s 115us/step - loss: 1.1582e-05\n",
      "Epoch 34/75\n",
      "20000/20000 [==============================] - 2s 97us/step - loss: 1.3829e-05\n",
      "Epoch 35/75\n",
      "20000/20000 [==============================] - 2s 93us/step - loss: 2.4527e-05\n",
      "Epoch 36/75\n",
      "20000/20000 [==============================] - 2s 95us/step - loss: 1.3488e-05\n",
      "Epoch 37/75\n",
      "20000/20000 [==============================] - 2s 94us/step - loss: 1.2246e-05\n",
      "Epoch 38/75\n",
      "20000/20000 [==============================] - 2s 97us/step - loss: 2.3364e-05\n",
      "Epoch 39/75\n",
      "20000/20000 [==============================] - 2s 93us/step - loss: 1.0586e-05\n",
      "Epoch 40/75\n",
      "20000/20000 [==============================] - 2s 92us/step - loss: 1.5163e-05\n",
      "Epoch 41/75\n",
      "20000/20000 [==============================] - 2s 93us/step - loss: 3.1713e-05\n",
      "Epoch 42/75\n",
      "20000/20000 [==============================] - 2s 95us/step - loss: 1.3864e-05\n",
      "Epoch 43/75\n",
      "20000/20000 [==============================] - 2s 92us/step - loss: 7.2446e-06\n",
      "Epoch 44/75\n",
      "20000/20000 [==============================] - 2s 92us/step - loss: 8.3744e-06\n",
      "Epoch 45/75\n",
      "20000/20000 [==============================] - ETA: 0s - loss: 3.8371e-0 - 2s 90us/step - loss: 3.8169e-05\n",
      "Epoch 46/75\n",
      "20000/20000 [==============================] - 3s 128us/step - loss: 1.1652e-05\n",
      "Epoch 47/75\n",
      "20000/20000 [==============================] - 2s 124us/step - loss: 6.9972e-06 2s - lo - ETA: 1s \n",
      "Epoch 48/75\n",
      "20000/20000 [==============================] - 2s 116us/step - loss: 1.3405e-05 0s - loss: 1.3481e-0\n",
      "Epoch 49/75\n",
      "20000/20000 [==============================] - 3s 140us/step - loss: 9.3123e-06\n",
      "Epoch 50/75\n",
      "20000/20000 [==============================] - 2s 123us/step - loss: 4.4389e-05\n",
      "Epoch 51/75\n",
      "20000/20000 [==============================] - 2s 109us/step - loss: 5.6307e-06\n",
      "Epoch 52/75\n",
      "20000/20000 [==============================] - 2s 101us/step - loss: 5.3842e-06\n",
      "Epoch 53/75\n",
      "20000/20000 [==============================] - 2s 100us/step - loss: 1.3827e-05\n",
      "Epoch 54/75\n",
      "20000/20000 [==============================] - ETA: 0s - loss: 1.2749e-0 - 2s 101us/step - loss: 1.3081e-05\n",
      "Epoch 55/75\n",
      "20000/20000 [==============================] - 2s 103us/step - loss: 1.6955e-05\n",
      "Epoch 56/75\n",
      "20000/20000 [==============================] - 2s 103us/step - loss: 5.8283e-06\n",
      "Epoch 57/75\n",
      "20000/20000 [==============================] - 2s 96us/step - loss: 7.6934e-06\n",
      "Epoch 58/75\n",
      "20000/20000 [==============================] - 2s 113us/step - loss: 2.3301e-05\n",
      "Epoch 59/75\n",
      "20000/20000 [==============================] - 2s 109us/step - loss: 1.1040e-05\n",
      "Epoch 60/75\n",
      "20000/20000 [==============================] - 2s 117us/step - loss: 6.6941e-06\n",
      "Epoch 61/75\n",
      "20000/20000 [==============================] - 2s 117us/step - loss: 1.1259e-05\n",
      "Epoch 62/75\n",
      "20000/20000 [==============================] - 3s 141us/step - loss: 1.0953e-05\n",
      "Epoch 63/75\n",
      "20000/20000 [==============================] - 3s 133us/step - loss: 1.3176e-05\n",
      "Epoch 64/75\n",
      "20000/20000 [==============================] - 3s 138us/step - loss: 1.8069e-05 0s - loss: 1.6495e-0 - ETA: 0s - loss: 1.6\n",
      "Epoch 65/75\n",
      "20000/20000 [==============================] - 4s 192us/step - loss: 8.9778e-06\n",
      "Epoch 66/75\n",
      "20000/20000 [==============================] - 3s 152us/step - loss: 1.0244e-05\n",
      "Epoch 67/75\n",
      "20000/20000 [==============================] - 3s 128us/step - loss: 1.6698e-05 0s - loss: 1.6945e-\n",
      "Epoch 68/75\n",
      "20000/20000 [==============================] - 2s 113us/step - loss: 6.0674e-06\n",
      "Epoch 69/75\n",
      "20000/20000 [==============================] - 2s 115us/step - loss: 1.1128e-05\n",
      "Epoch 70/75\n",
      "20000/20000 [==============================] - 2s 104us/step - loss: 1.0336e-05\n",
      "Epoch 71/75\n",
      "20000/20000 [==============================] - 2s 99us/step - loss: 1.1828e-05\n",
      "Epoch 72/75\n",
      "20000/20000 [==============================] - 2s 104us/step - loss: 1.0270e-05\n",
      "Epoch 73/75\n",
      "20000/20000 [==============================] - 2s 102us/step - loss: 1.7531e-05\n",
      "Epoch 74/75\n",
      "20000/20000 [==============================] - 2s 96us/step - loss: 5.0821e-06\n",
      "Epoch 75/75\n",
      "20000/20000 [==============================] - 2s 98us/step - loss: 6.7196e-06\n"
     ]
    },
    {
     "data": {
      "text/plain": [
       "<keras.callbacks.History at 0x17b8e72eac8>"
      ]
     },
     "execution_count": 8,
     "metadata": {},
     "output_type": "execute_result"
    }
   ],
   "source": [
    "x_train,y_train,x_test,y_test =  Generate_Data()\n",
    "\n",
    "model = Sequential()\n",
    "model.add(Dense(units=2000, input_dim=2))\n",
    "model.add(Activation('relu'))\n",
    "model.add(Dense(units=100))\n",
    "model.add(Activation('tanh'))\n",
    "model.add(Dense(units=10))\n",
    "model.add(Activation('linear'))\n",
    "model.add(Dense(units=2))\n",
    "\n",
    "model.add(Lambda(lambda x: x - 0.1*K.sum(x*x,axis = 1,keepdims=True)*x+0.005*tf.multiply(K.sum(x*x,axis = 1,keepdims=True),K.sum(x*x,axis = 1,keepdims=True))*x))\n",
    "model.compile(loss='mean_squared_error', optimizer='adagrad', metrics=['mse'])\n",
    "\n",
    "model.compile(loss='mean_squared_error',\n",
    "              optimizer='adam')\n",
    "\n",
    "model.fit(x_train, x_train, epochs=75, batch_size=100, verbose=1)\n",
    "\n",
    "#loss_and_metrics = model.evaluate(y_test, x_test, batch_size=100)"
   ]
  },
  {
   "cell_type": "code",
   "execution_count": 9,
   "metadata": {},
   "outputs": [],
   "source": [
    "model2 = Sequential()\n",
    "for layer in model.layers[:-1]:\n",
    "    model2.add(layer)"
   ]
  },
  {
   "cell_type": "code",
   "execution_count": 10,
   "metadata": {},
   "outputs": [
    {
     "data": {
      "image/png": "[encoded data removed]",
      "text/plain": [
       "<Figure size 432x288 with 1 Axes>"
      ]
     },
     "metadata": {},
     "output_type": "display_data"
    },
    {
     "data": {
      "image/png": "[encoded data removed]",
      "text/plain": [
       "<Figure size 432x288 with 1 Axes>"
      ]
     },
     "metadata": {},
     "output_type": "display_data"
    },
    {
     "data": {
      "image/png": "[encoded data removed]",
      "text/plain": [
       "<Figure size 432x288 with 1 Axes>"
      ]
     },
     "metadata": {},
     "output_type": "display_data"
    }
   ],
   "source": [
    "x_train,y_train,x_test,y_test =  load_data(data_total)\n",
    "\n",
    "classes = model2.predict(x_test, batch_size=100)\n",
    "\n",
    "plt.figure()\n",
    "plt.plot(np.abs(Convert2Complex(x_test)), np.abs(Convert2Complex(Non_Linearity(classes))),c='r',label = 'Compensated PA Output(w)')\n",
    "plt.plot(np.abs(Convert2Complex(x_test)),np.abs(Convert2Complex(x_test)),c='b',label = 'Input Data(x)')\n",
    "plt.plot(np.abs(Convert2Complex(x_test)),np.abs(Convert2Complex(y_test)),c='k',label = 'PA Output(y)')\n",
    "plt.xlabel('Data Input')\n",
    "plt.legend()\n",
    "plt.show()\n",
    "\n",
    "\n",
    "plt.figure()\n",
    "#plt.title('Magnitude spectrum for alpha = '+str(0.1)+' mse = '+str(mse))\n",
    "#plot_spec(Convert2Complex(x_test),plot_label='Input to PA')\n",
    "plot_spec((Convert2Complex((y_test))),plot_label='Output of PA')\n",
    "plot_spec(Convert2Complex(x_test),plot_label='Input Data')\n",
    "plot_spec(pa(Convert2Complex(classes)),plot_label='Output after PD and PA')\n",
    "plt.xlabel('Frequency ( in MHz)')\n",
    "plt.ylabel('Magnitude in dB')\n",
    "plt.legend()\n",
    "plt.grid(True)\n",
    "plt.show()\n",
    "\n",
    "x_train,y_train,x_test,y_test =  Generate_Data()\n",
    "classes = model.predict(x_test, batch_size=100)\n",
    "\n",
    "plt.figure()\n",
    "plt.plot(np.abs(Convert2Complex(x_test[:100])), np.angle(Convert2Complex(Non_Linearity(classes[:100])))-np.angle(Convert2Complex(x_test[:100])),c='r',label = 'Arg(Compensated PA Output(z))-Arg(Input data)')\n",
    "#plt.plot((Convert2Complex(x_test[:100])),np.angle(Convert2Complex(x_test[:100])),c='b',label = 'Arg(PA input(x))')\n",
    "plt.plot(np.abs(Convert2Complex(x_test[:100])),np.angle(Convert2Complex(y_test[:100]))-np.angle(Convert2Complex(x_test[:100])),c='k',label = 'Arg(PA Output(y))-Arg(Input data(x))')\n",
    "plt.plot(np.abs(Convert2Complex(x_test[:100])),np.angle(Convert2Complex(y_test[:100]))-np.angle(Convert2Complex(x_test[:100])),c='b',label = 'Arg(Input data(x))-Arg(Input data(x))')\n",
    "\n",
    "plt.ylabel('Phase difference in radians')\n",
    "plt.xlabel('Input Data')\n",
    "plt.legend()\n",
    "plt.show()"
   ]
  },
  {
   "cell_type": "code",
   "execution_count": null,
   "metadata": {},
   "outputs": [],
   "source": []
  },
  {
   "cell_type": "code",
   "execution_count": null,
   "metadata": {},
   "outputs": [],
   "source": []
  },
  {
   "cell_type": "code",
   "execution_count": null,
   "metadata": {},
   "outputs": [],
   "source": []
  }
 ],
 "metadata": {
  "kernelspec": {
   "display_name": "Python 3",
   "language": "python",
   "name": "python3"
  },
  "language_info": {
   "codemirror_mode": {
    "name": "ipython",
    "version": 3
   },
   "file_extension": ".py",
   "mimetype": "text/x-python",
   "name": "python",
   "nbconvert_exporter": "python",
   "pygments_lexer": "ipython3",
   "version": "3.6.5"
  }
 },
 "nbformat": 4,
 "nbformat_minor": 2
}
