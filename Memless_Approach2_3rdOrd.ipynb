{
 "cells": [
  {
   "cell_type": "code",
   "execution_count": 1,
   "metadata": {},
   "outputs": [
    {
     "name": "stderr",
     "output_type": "stream",
     "text": [
      "Using TensorFlow backend.\n"
     ]
    },
    {
     "name": "stdout",
     "output_type": "stream",
     "text": [
      "WARNING:tensorflow:\n",
      "The TensorFlow contrib module will not be included in TensorFlow 2.0.\n",
      "For more information, please see:\n",
      "  * https://github.com/tensorflow/community/blob/master/rfcs/20180907-contrib-sunset.md\n",
      "  * https://github.com/tensorflow/addons\n",
      "  * https://github.com/tensorflow/io (for I/O related ops)\n",
      "If you depend on functionality not listed there, please file an issue.\n",
      "\n"
     ]
    }
   ],
   "source": [
    "import pandas\n",
    "from keras.models import Sequential,Model\n",
    "from keras import losses\n",
    "from keras.layers import Dense,Activation,LSTM,Lambda\n",
    "from keras.wrappers.scikit_learn import KerasRegressor\n",
    "from sklearn.model_selection import cross_val_score\n",
    "from sklearn.model_selection import KFold\n",
    "from sklearn.preprocessing import StandardScaler\n",
    "from sklearn.pipeline import Pipeline\n",
    "from keras.utils.conv_utils import convert_kernel\n",
    "\n",
    "from random import seed\n",
    "from random import choice\n",
    "\n",
    "%matplotlib inline \n",
    "#to plot inline in jupyter notebook  \n",
    "import numpy as np #for array related \n",
    "import scipy.io as spio #to load data \n",
    "import cmath #for complex operations\n",
    "import matplotlib.pyplot as plt #for plotting graphs\n",
    "import math # for log \n",
    "from scipy.signal import hann, welch #for spectral analysis\n",
    "import keras.backend as K\n",
    "import tensorflow as tf\n",
    "import tensorflow.contrib.eager as tfe\n",
    "from tensorflow.python.eager.context import context, EAGER_MODE, GRAPH_MODE\n"
   ]
  },
  {
   "cell_type": "code",
   "execution_count": 2,
   "metadata": {},
   "outputs": [],
   "source": [
    "def plot_spec(spec_input,am_am = False,plot_label = None):\n",
    "    \n",
    "    # Spectral analyses of PA input and PA output\n",
    "    Fs = 7.86e6\n",
    "    N = np.min(np.array([1024,len(spec_input)]));\n",
    "    pwin = hann(N);\n",
    "    f_axis,spec_input_ps = welch(spec_input, Fs, window=pwin, nfft=N, return_onesided=False,scaling = 'spectrum',detrend=False)\n",
    "    \n",
    "    spec_input_ps_dB = [ 10*math.log10(abs(spec_input_ps[i])) for i in range(len(spec_input_ps)) ];\n",
    "\n",
    "    # Plots\n",
    "    f_axis = [f_axis[i]/1000000 for i in range(len(f_axis))]\n",
    "    #plt.figure()\n",
    "    plt.plot(f_axis,spec_input_ps_dB,label = plot_label)\n",
    "    \n"
   ]
  },
  {
   "cell_type": "code",
   "execution_count": 3,
   "metadata": {},
   "outputs": [
    {
     "name": "stdout",
     "output_type": "stream",
     "text": [
      "Loaded data\n",
      "Input scaling done\n"
     ]
    }
   ],
   "source": [
    "#loading data from the file\n",
    "mat_I = spio.loadmat('qpsk_I_seqLen65472.mat', squeeze_me=True)\n",
    "mat_Q = spio.loadmat('qpsk_Q_seqLen65472.mat', squeeze_me=True)\n",
    "data_total_I = mat_I['waveform_I']\n",
    "data_total_Q = mat_Q['waveform_Q']\n",
    "data_total = [complex(data_total_I[i],data_total_Q[i]) for i in range(len(data_total_I))]\n",
    "\n",
    "print('Loaded data')\n",
    "#input scaling in dB\n",
    "scale_val = np.max(np.abs(data_total))\n",
    "data_total = data_total/scale_val\n",
    "print('Input scaling done')\n"
   ]
  },
  {
   "cell_type": "code",
   "execution_count": 4,
   "metadata": {},
   "outputs": [
    {
     "name": "stdout",
     "output_type": "stream",
     "text": [
      "1.0\n"
     ]
    }
   ],
   "source": [
    "print(np.max(np.abs(data_total)))\n"
   ]
  },
  {
   "cell_type": "code",
   "execution_count": 5,
   "metadata": {},
   "outputs": [],
   "source": [
    "def Convert2Feature(input):\n",
    "\toutput = [(np.real(i),np.imag(i)) for i in input]\n",
    "\treturn np.array(output).reshape(-1,2)\n",
    "\n",
    "def Convert2Complex(input):\n",
    "\treturn np.array([t[0]+1j*t[1] for t in np.array(input)])\n",
    "\n",
    "def Non_Linearity(input):\n",
    "\tinput = np.array([t[0]+1j*t[1] for t in input])\n",
    "\treturn Convert2Feature(pa(input))\n",
    "\n",
    "def pa(input):\n",
    "    return (input-0.1*input*(np.abs(input)**2))\n",
    "\n",
    "def Generate_Data():\n",
    "\tx_train=np.random.rand(40000)*2.1-1.05\n",
    "\tx_train=x_train.reshape(-1,2)\n",
    "\ty_train=Non_Linearity(x_train)\n",
    "\t\n",
    "\tx_test=np.linspace(-0.5,0.5,200)\n",
    "\tx_test=x_test.reshape(-1,2)\n",
    "\ty_test=Non_Linearity(x_test)\n",
    "\n",
    "\treturn (x_train,y_train,x_test,y_test)\n",
    "\n",
    "def load_data(x):\n",
    "    train_len = 8000\n",
    "    \n",
    "    y_train = Convert2Feature(pa(x[0:train_len]))\n",
    "    x_train = Convert2Feature(x[0:train_len])\n",
    "    \n",
    "    y_test = Convert2Feature(pa(x[len(x)-5000:]))\n",
    "    x_test = Convert2Feature(x[len(x)-5000:])\n",
    "    \n",
    "    return (x_train,y_train,x_test,y_test)"
   ]
  },
  {
   "cell_type": "code",
   "execution_count": 6,
   "metadata": {},
   "outputs": [
    {
     "data": {
      "text/plain": [
       "1.4812082522840282"
      ]
     },
     "execution_count": 6,
     "metadata": {},
     "output_type": "execute_result"
    }
   ],
   "source": [
    "x_train,y_train,x_test,y_test =  Generate_Data()\n",
    "np.max(np.abs(Convert2Complex(x_train)))"
   ]
  },
  {
   "cell_type": "code",
   "execution_count": 7,
   "metadata": {},
   "outputs": [
    {
     "name": "stdout",
     "output_type": "stream",
     "text": [
      "WARNING:tensorflow:From c:\\users\\siddp\\appdata\\local\\programs\\python\\python37\\lib\\site-packages\\tensorflow_core\\python\\ops\\resource_variable_ops.py:1630: calling BaseResourceVariable.__init__ (from tensorflow.python.ops.resource_variable_ops) with constraint is deprecated and will be removed in a future version.\n",
      "Instructions for updating:\n",
      "If using Keras pass *_constraint arguments to layers.\n",
      "WARNING:tensorflow:From c:\\users\\siddp\\appdata\\local\\programs\\python\\python37\\lib\\site-packages\\keras\\backend\\tensorflow_backend.py:422: The name tf.global_variables is deprecated. Please use tf.compat.v1.global_variables instead.\n",
      "\n",
      "Epoch 1/75\n",
      "20000/20000 [==============================] - 1s 54us/step - loss: 0.0071\n",
      "Epoch 2/75\n",
      "20000/20000 [==============================] - 1s 39us/step - loss: 6.0726e-04\n",
      "Epoch 3/75\n",
      "20000/20000 [==============================] - 1s 39us/step - loss: 5.2004e-04\n",
      "Epoch 4/75\n",
      "20000/20000 [==============================] - 1s 39us/step - loss: 4.8869e-04\n",
      "Epoch 5/75\n",
      "20000/20000 [==============================] - 1s 39us/step - loss: 4.7966e-04\n",
      "Epoch 6/75\n",
      "20000/20000 [==============================] - 1s 38us/step - loss: 4.7834e-04\n",
      "Epoch 7/75\n",
      "20000/20000 [==============================] - 1s 44us/step - loss: 4.7581e-04\n",
      "Epoch 8/75\n",
      "20000/20000 [==============================] - 1s 41us/step - loss: 4.7833e-04\n",
      "Epoch 9/75\n",
      "20000/20000 [==============================] - 1s 39us/step - loss: 4.8132e-04\n",
      "Epoch 10/75\n",
      "20000/20000 [==============================] - 1s 38us/step - loss: 4.8512e-04\n",
      "Epoch 11/75\n",
      "20000/20000 [==============================] - 1s 39us/step - loss: 4.8727e-04\n",
      "Epoch 12/75\n",
      "20000/20000 [==============================] - 1s 38us/step - loss: 4.8757e-04\n",
      "Epoch 13/75\n",
      "20000/20000 [==============================] - 1s 38us/step - loss: 4.8632e-04\n",
      "Epoch 14/75\n",
      "20000/20000 [==============================] - 1s 38us/step - loss: 5.0302e-04\n",
      "Epoch 15/75\n",
      "20000/20000 [==============================] - 1s 41us/step - loss: 4.9068e-04\n",
      "Epoch 16/75\n",
      "20000/20000 [==============================] - 1s 38us/step - loss: 4.9772e-04\n",
      "Epoch 17/75\n",
      "20000/20000 [==============================] - 1s 38us/step - loss: 4.9409e-04\n",
      "Epoch 18/75\n",
      "20000/20000 [==============================] - 1s 38us/step - loss: 5.0186e-04\n",
      "Epoch 19/75\n",
      "20000/20000 [==============================] - 1s 38us/step - loss: 5.0439e-04\n",
      "Epoch 20/75\n",
      "20000/20000 [==============================] - 1s 38us/step - loss: 4.9482e-04\n",
      "Epoch 21/75\n",
      "20000/20000 [==============================] - 1s 41us/step - loss: 4.9572e-04\n",
      "Epoch 22/75\n",
      "20000/20000 [==============================] - 1s 42us/step - loss: 4.9479e-04\n",
      "Epoch 23/75\n",
      "20000/20000 [==============================] - 1s 38us/step - loss: 4.9779e-04\n",
      "Epoch 24/75\n",
      "20000/20000 [==============================] - 1s 38us/step - loss: 4.9452e-04\n",
      "Epoch 25/75\n",
      "20000/20000 [==============================] - 1s 41us/step - loss: 4.9941e-04\n",
      "Epoch 26/75\n",
      "20000/20000 [==============================] - 1s 44us/step - loss: 5.0473e-04\n",
      "Epoch 27/75\n",
      "20000/20000 [==============================] - 1s 44us/step - loss: 4.9521e-04\n",
      "Epoch 28/75\n",
      "20000/20000 [==============================] - 1s 45us/step - loss: 4.9863e-04\n",
      "Epoch 29/75\n",
      "20000/20000 [==============================] - 1s 52us/step - loss: 4.8642e-04\n",
      "Epoch 30/75\n",
      "20000/20000 [==============================] - 1s 48us/step - loss: 4.9553e-04\n",
      "Epoch 31/75\n",
      "20000/20000 [==============================] - 1s 48us/step - loss: 4.9360e-04\n",
      "Epoch 32/75\n",
      "20000/20000 [==============================] - 1s 47us/step - loss: 4.8446e-04\n",
      "Epoch 33/75\n",
      "20000/20000 [==============================] - 1s 42us/step - loss: 4.9320e-04\n",
      "Epoch 34/75\n",
      "20000/20000 [==============================] - 1s 50us/step - loss: 4.9622e-04\n",
      "Epoch 35/75\n",
      "20000/20000 [==============================] - 1s 47us/step - loss: 4.9783e-04\n",
      "Epoch 36/75\n",
      "20000/20000 [==============================] - 1s 44us/step - loss: 4.8931e-04\n",
      "Epoch 37/75\n",
      "20000/20000 [==============================] - 1s 45us/step - loss: 4.8455e-04\n",
      "Epoch 38/75\n",
      "20000/20000 [==============================] - 1s 44us/step - loss: 4.9542e-04\n",
      "Epoch 39/75\n",
      "20000/20000 [==============================] - 1s 44us/step - loss: 4.7239e-04\n",
      "Epoch 40/75\n",
      "20000/20000 [==============================] - 1s 44us/step - loss: 4.8308e-04\n",
      "Epoch 41/75\n",
      "20000/20000 [==============================] - 1s 47us/step - loss: 4.7243e-04\n",
      "Epoch 42/75\n",
      "20000/20000 [==============================] - 1s 43us/step - loss: 4.6968e-04\n",
      "Epoch 43/75\n",
      "20000/20000 [==============================] - 1s 43us/step - loss: 4.7122e-04\n",
      "Epoch 44/75\n",
      "20000/20000 [==============================] - 1s 43us/step - loss: 4.6353e-04\n",
      "Epoch 45/75\n",
      "20000/20000 [==============================] - 1s 44us/step - loss: 4.5824e-04\n",
      "Epoch 46/75\n",
      "20000/20000 [==============================] - 1s 44us/step - loss: 4.6172e-04\n",
      "Epoch 47/75\n",
      "20000/20000 [==============================] - 1s 51us/step - loss: 4.5861e-04\n",
      "Epoch 48/75\n",
      "20000/20000 [==============================] - 1s 46us/step - loss: 4.4761e-04\n",
      "Epoch 49/75\n",
      "20000/20000 [==============================] - 1s 44us/step - loss: 4.4316e-04\n",
      "Epoch 50/75\n",
      "20000/20000 [==============================] - 1s 45us/step - loss: 4.3598e-04\n",
      "Epoch 51/75\n",
      "20000/20000 [==============================] - 1s 46us/step - loss: 4.3087e-04\n",
      "Epoch 52/75\n",
      "20000/20000 [==============================] - 1s 43us/step - loss: 4.3099e-04\n",
      "Epoch 53/75\n",
      "20000/20000 [==============================] - 1s 43us/step - loss: 4.4220e-04\n",
      "Epoch 54/75\n",
      "20000/20000 [==============================] - 1s 46us/step - loss: 4.2952e-04\n",
      "Epoch 55/75\n",
      "20000/20000 [==============================] - 1s 44us/step - loss: 4.2232e-04\n",
      "Epoch 56/75\n",
      "20000/20000 [==============================] - 1s 43us/step - loss: 4.2238e-04\n",
      "Epoch 57/75\n",
      "20000/20000 [==============================] - 1s 43us/step - loss: 4.1892e-04\n",
      "Epoch 58/75\n",
      "20000/20000 [==============================] - 1s 45us/step - loss: 4.1994e-04\n",
      "Epoch 59/75\n",
      "20000/20000 [==============================] - 1s 45us/step - loss: 4.2303e-04\n",
      "Epoch 60/75\n",
      "20000/20000 [==============================] - 1s 49us/step - loss: 4.3287e-04\n",
      "Epoch 61/75\n",
      "20000/20000 [==============================] - 1s 45us/step - loss: 4.1362e-04\n",
      "Epoch 62/75\n",
      "20000/20000 [==============================] - 1s 47us/step - loss: 4.1808e-04\n",
      "Epoch 63/75\n",
      "20000/20000 [==============================] - 1s 48us/step - loss: 4.2025e-04\n",
      "Epoch 64/75\n",
      "20000/20000 [==============================] - 1s 47us/step - loss: 4.3235e-04\n",
      "Epoch 65/75\n",
      "20000/20000 [==============================] - 1s 47us/step - loss: 4.1931e-04\n",
      "Epoch 66/75\n",
      "20000/20000 [==============================] - 1s 46us/step - loss: 4.2115e-04\n",
      "Epoch 67/75\n",
      "20000/20000 [==============================] - 1s 45us/step - loss: 4.2814e-04\n",
      "Epoch 68/75\n",
      "20000/20000 [==============================] - 1s 44us/step - loss: 4.1172e-04\n",
      "Epoch 69/75\n",
      "20000/20000 [==============================] - 1s 45us/step - loss: 4.1981e-04\n",
      "Epoch 70/75\n",
      "20000/20000 [==============================] - 1s 43us/step - loss: 4.2634e-04\n",
      "Epoch 71/75\n",
      "20000/20000 [==============================] - 1s 43us/step - loss: 4.1764e-04\n",
      "Epoch 72/75\n",
      "20000/20000 [==============================] - 1s 49us/step - loss: 4.1456e-04\n",
      "Epoch 73/75\n",
      "20000/20000 [==============================] - 1s 45us/step - loss: 4.1111e-04\n",
      "Epoch 74/75\n",
      "20000/20000 [==============================] - 1s 43us/step - loss: 4.1846e-04\n",
      "Epoch 75/75\n",
      "20000/20000 [==============================] - 1s 44us/step - loss: 4.1517e-04\n"
     ]
    },
    {
     "data": {
      "text/plain": [
       "<keras.callbacks.callbacks.History at 0x24474391188>"
      ]
     },
     "execution_count": 7,
     "metadata": {},
     "output_type": "execute_result"
    }
   ],
   "source": [
    "x_train,y_train,x_test,y_test =  Generate_Data()\n",
    "\n",
    "model = Sequential()\n",
    "model.add(Dense(units=2000, input_dim=2))\n",
    "model.add(Activation('relu'))\n",
    "model.add(Dense(units=100))\n",
    "model.add(Activation('tanh'))\n",
    "model.add(Dense(units=10))\n",
    "model.add(Activation('linear'))\n",
    "model.add(Dense(units=2))\n",
    "\n",
    "model.add(Lambda(lambda x: x - 0.1*K.sum(x*x,axis = 1,keepdims=True)*x))\n",
    "model.compile(loss='mean_squared_error', optimizer='adagrad', metrics=['mse'])\n",
    "\n",
    "model.compile(loss='mean_squared_error',\n",
    "              optimizer='adam')\n",
    "\n",
    "model.fit(x_train, x_train, epochs=75, batch_size=100, verbose=1)\n",
    "\n",
    "#loss_and_metrics = model.evaluate(y_test, x_test, batch_size=100)"
   ]
  },
  {
   "cell_type": "code",
   "execution_count": 8,
   "metadata": {},
   "outputs": [
    {
     "name": "stdout",
     "output_type": "stream",
     "text": [
      "Model: \"sequential_1\"\n",
      "_________________________________________________________________\n",
      "Layer (type)                 Output Shape              Param #   \n",
      "=================================================================\n",
      "dense_1 (Dense)              (None, 2000)              6000      \n",
      "_________________________________________________________________\n",
      "activation_1 (Activation)    (None, 2000)              0         \n",
      "_________________________________________________________________\n",
      "dense_2 (Dense)              (None, 100)               200100    \n",
      "_________________________________________________________________\n",
      "activation_2 (Activation)    (None, 100)               0         \n",
      "_________________________________________________________________\n",
      "dense_3 (Dense)              (None, 10)                1010      \n",
      "_________________________________________________________________\n",
      "activation_3 (Activation)    (None, 10)                0         \n",
      "_________________________________________________________________\n",
      "dense_4 (Dense)              (None, 2)                 22        \n",
      "_________________________________________________________________\n",
      "lambda_1 (Lambda)            (None, 2)                 0         \n",
      "=================================================================\n",
      "Total params: 207,132\n",
      "Trainable params: 207,132\n",
      "Non-trainable params: 0\n",
      "_________________________________________________________________\n"
     ]
    }
   ],
   "source": [
    "model.summary()"
   ]
  },
  {
   "cell_type": "code",
   "execution_count": 12,
   "metadata": {},
   "outputs": [],
   "source": [
    "model2 = Sequential()\n",
    "for layer in model.layers[:-1]:\n",
    "    model2.add(layer)"
   ]
  },
  {
   "cell_type": "code",
   "execution_count": 13,
   "metadata": {},
   "outputs": [
    {
     "name": "stdout",
     "output_type": "stream",
     "text": [
      "Model: \"sequential_3\"\n",
      "_________________________________________________________________\n",
      "Layer (type)                 Output Shape              Param #   \n",
      "=================================================================\n",
      "dense_1 (Dense)              (None, 2000)              6000      \n",
      "_________________________________________________________________\n",
      "activation_1 (Activation)    (None, 2000)              0         \n",
      "_________________________________________________________________\n",
      "dense_2 (Dense)              (None, 100)               200100    \n",
      "_________________________________________________________________\n",
      "activation_2 (Activation)    (None, 100)               0         \n",
      "_________________________________________________________________\n",
      "dense_3 (Dense)              (None, 10)                1010      \n",
      "_________________________________________________________________\n",
      "activation_3 (Activation)    (None, 10)                0         \n",
      "_________________________________________________________________\n",
      "dense_4 (Dense)              (None, 2)                 22        \n",
      "=================================================================\n",
      "Total params: 207,132\n",
      "Trainable params: 207,132\n",
      "Non-trainable params: 0\n",
      "_________________________________________________________________\n"
     ]
    }
   ],
   "source": [
    "model2.summary()"
   ]
  },
  {
   "cell_type": "code",
   "execution_count": 14,
   "metadata": {},
   "outputs": [
    {
     "data": {
      "image/png": "[encoded data removed]",
      "text/plain": [
       "<Figure size 432x288 with 1 Axes>"
      ]
     },
     "metadata": {
      "needs_background": "light"
     },
     "output_type": "display_data"
    },
    {
     "data": {
      "text/plain": [
       "<Figure size 2880x2880 with 0 Axes>"
      ]
     },
     "metadata": {},
     "output_type": "display_data"
    },
    {
     "data": {
      "image/png": "[encoded data removed]",
      "text/plain": [
       "<Figure size 432x288 with 1 Axes>"
      ]
     },
     "metadata": {
      "needs_background": "light"
     },
     "output_type": "display_data"
    }
   ],
   "source": [
    "x_train,y_train,x_test,y_test =  load_data(data_total)\n",
    "\n",
    "classes = model2.predict(x_test, batch_size=100)\n",
    "\n",
    "plt.figure()\n",
    "plt.plot(np.abs(Convert2Complex(x_test)), np.abs(Convert2Complex(Non_Linearity(classes))),c='r',label = 'Compensated PA Output(w)')\n",
    "plt.plot(np.abs(Convert2Complex(x_test)),np.abs(Convert2Complex(x_test)),c='b',label = 'Input data(x)')\n",
    "plt.plot(np.abs(Convert2Complex(x_test)),np.abs(Convert2Complex(y_test)),c='k',label = 'PA Output(y)')\n",
    "plt.xlabel('Input Data')\n",
    "plt.legend()\n",
    "plt.figure(figsize=(40,40))\n",
    "plt.show()\n",
    "\n",
    "\n",
    "plt.figure()\n",
    "plot_spec((Convert2Complex((y_test))),plot_label='Output PA')\n",
    "plot_spec(Convert2Complex(x_test),plot_label='Input Data')\n",
    "plot_spec(pa(Convert2Complex(classes)),plot_label='Output after PD and PA')\n",
    "plt.xlabel('Frequency ( in MHz)')\n",
    "plt.ylabel('Magnitude in dB')\n",
    "plt.legend()\n",
    "plt.grid(True)\n",
    "plt.show()"
   ]
  },
  {
   "cell_type": "code",
   "execution_count": 12,
   "metadata": {},
   "outputs": [
    {
     "data": {
      "image/png": "[encoded data removed]",
      "text/plain": [
       "<Figure size 432x288 with 1 Axes>"
      ]
     },
     "metadata": {
      "needs_background": "light"
     },
     "output_type": "display_data"
    }
   ],
   "source": [
    "\n",
    "x_train,y_train,x_test,y_test =  Generate_Data()\n",
    "classes = model.predict(x_test, batch_size=100)\n",
    "\n",
    "plt.figure()\n",
    "plt.plot(np.abs(Convert2Complex(x_test[:100])), np.angle(Convert2Complex(Non_Linearity(classes[:100])))-np.angle(Convert2Complex(x_test[:100])),c='r',label = 'Arg(Compensated PA Output(z))-Arg(Input data(x))')\n",
    "plt.plot(np.abs(Convert2Complex(x_test[:100])), np.angle(Convert2Complex(Non_Linearity(x_test[:100])))-np.angle(Convert2Complex(x_test[:100])),c='b',label = 'Arg(Input data(x))-Arg(Input data(x))',linewidth=4)\n",
    "plt.plot(np.abs(Convert2Complex(x_test[:100])),np.angle(Convert2Complex(y_test[:100]))-np.angle(Convert2Complex(x_test[:100])),c='k',label = 'Arg(PA Output(y))-Arg(PA input(x))')\n",
    "plt.legend()\n",
    "plt.show()"
   ]
  },
  {
   "cell_type": "code",
   "execution_count": null,
   "metadata": {},
   "outputs": [],
   "source": []
  },
  {
   "cell_type": "code",
   "execution_count": null,
   "metadata": {},
   "outputs": [],
   "source": []
  },
  {
   "cell_type": "code",
   "execution_count": null,
   "metadata": {},
   "outputs": [],
   "source": []
  }
 ],
 "metadata": {
  "kernelspec": {
   "display_name": "Python 3",
   "language": "python",
   "name": "python3"
  },
  "language_info": {
   "codemirror_mode": {
    "name": "ipython",
    "version": 3
   },
   "file_extension": ".py",
   "mimetype": "text/x-python",
   "name": "python",
   "nbconvert_exporter": "python",
   "pygments_lexer": "ipython3",
   "version": "3.7.6"
  }
 },
 "nbformat": 4,
 "nbformat_minor": 2
}
